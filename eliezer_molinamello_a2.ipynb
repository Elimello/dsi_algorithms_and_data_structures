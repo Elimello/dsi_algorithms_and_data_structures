{
  "nbformat": 4,
  "nbformat_minor": 0,
  "metadata": {
    "colab": {
      "provenance": []
    },
    "kernelspec": {
      "name": "python3",
      "display_name": "Python 3"
    },
    "language_info": {
      "name": "python"
    }
  },
  "cells": [
    {
      "cell_type": "markdown",
      "source": [
        "## Assignment 2 - Eliezer Molina Mello"
      ],
      "metadata": {
        "id": "19YsI5Gifbsq"
      }
    },
    {
      "cell_type": "markdown",
      "source": [
        "### Part 1"
      ],
      "metadata": {
        "id": "SleZbapBg7Bo"
      }
    },
    {
      "cell_type": "markdown",
      "source": [
        "Kamal was my partner assigned. [Kamal's Repository.](https://github.com/kamalakbari7/algorithms_and_data_structures_Kamal)"
      ],
      "metadata": {
        "id": "dTrAm4j_g98N"
      }
    },
    {
      "cell_type": "markdown",
      "source": [
        "### Part 2"
      ],
      "metadata": {
        "id": "pzcogHeGhXfo"
      }
    },
    {
      "cell_type": "markdown",
      "source": [
        "#### Paraphrase the problem in your own words."
      ],
      "metadata": {
        "id": "d1WgWGsQfoSP"
      }
    },
    {
      "cell_type": "markdown",
      "source": [
        "The problem revolves around finding any missing numbers from a list of integers that can range from `0` to `n`. In order to do so we need to write a function that can properly identify them. Also, if all numbers are present, the function must return `-1`. As a heads up, a list may contain *duplicate* integers."
      ],
      "metadata": {
        "id": "JY_lQykMn_Uf"
      }
    },
    {
      "cell_type": "markdown",
      "source": [
        "#### Create 1 new example that demonstrates you understand the problem. Trace/walkthrough 1 example that your partner made and explain it."
      ],
      "metadata": {
        "id": "uXDIVUnEfsXP"
      }
    },
    {
      "cell_type": "markdown",
      "source": [
        "New example:\n",
        "\n",
        "Input: `lst = [1, 7, 0, 3]`\n",
        "\n",
        "Output: `[2, 4, 5, 6]`"
      ],
      "metadata": {
        "id": "zKt01LRspNk2"
      }
    },
    {
      "cell_type": "markdown",
      "source": [
        "Kamal's example and walkthrough:\n",
        "\n",
        "Input = `[8,9]`\n",
        "\n",
        "Output = `[0,1,2,3,4,5,6,7]`\n",
        "\n",
        "The example Kamal presented was interesting as he only listed the last two numbers of the list. The function should then be able to undertand that the missing numbers are all integers from `0` to `7`."
      ],
      "metadata": {
        "id": "R1dmW-7Zpjid"
      }
    },
    {
      "cell_type": "markdown",
      "source": [
        "#### Copy the solution your partner wrote."
      ],
      "metadata": {
        "id": "T1QHOmOhf4o6"
      }
    },
    {
      "cell_type": "code",
      "source": [
        "import numpy as np\n",
        "import pandas as pd"
      ],
      "metadata": {
        "id": "9AevbKJ7rwzg"
      },
      "execution_count": 5,
      "outputs": []
    },
    {
      "cell_type": "code",
      "source": [
        "def missing_num2(lst) -> int:\n",
        "    if lst:\n",
        "        rlst = np.arange(0,max(lst)+1,1)    #O(n)\n",
        "        lst = np.array(lst)                 #O(n)\n",
        "\n",
        "        diff = np.setdiff1d(rlst,lst).tolist() # O(nlog(n)) becuase setdiff1d needs to sort arrays and\n",
        "\n",
        "        if not diff:\n",
        "            return -1\n",
        "\n",
        "        return diff  #O(m) m<n\n",
        "\n",
        "    else:\n",
        "        raise AssertionError('input list is empty')"
      ],
      "metadata": {
        "id": "h8KvCD3mf_m2"
      },
      "execution_count": 6,
      "outputs": []
    },
    {
      "cell_type": "markdown",
      "source": [
        "#### Explain why their solution works in your own words."
      ],
      "metadata": {
        "id": "5XDOBzypf_-O"
      }
    },
    {
      "cell_type": "code",
      "source": [
        "# Output the time it takes to run the below code\n",
        "%time\n",
        "\n",
        "# Testing Kamal's solution using the example I provided\n",
        "l1 = [1, 7, 0, 3]\n",
        "missing_num2(l1)"
      ],
      "metadata": {
        "colab": {
          "base_uri": "https://localhost:8080/",
          "height": 0
        },
        "id": "Piq39qAlgFAo",
        "outputId": "680fa544-cf19-416f-8f67-096058d2ed94"
      },
      "execution_count": 8,
      "outputs": [
        {
          "output_type": "stream",
          "name": "stdout",
          "text": [
            "CPU times: user 3 µs, sys: 0 ns, total: 3 µs\n",
            "Wall time: 7.39 µs\n"
          ]
        },
        {
          "output_type": "execute_result",
          "data": {
            "text/plain": [
              "[2, 4, 5, 6]"
            ]
          },
          "metadata": {},
          "execution_count": 8
        }
      ]
    },
    {
      "cell_type": "markdown",
      "source": [
        "Kamal's solution works great as he used a straightforward, yet very effective, code.\n",
        "\n",
        "First, he created a range of number from `0` to the `max` number found in the list. Then, he converted the input list into a numpy array. A very important step he used was `numpysetdiff1` which finds the difference between the complete range and the input list, that is how it identifies missing numbers.\n",
        "\n",
        "Lastly, if there are missing numbers, it returns them, otherwise, it returns `-1` if no numbers are missing. Also, he added an `AssertionError` to display an error message if an empty list was provided."
      ],
      "metadata": {
        "id": "LfxgDO_asNPI"
      }
    },
    {
      "cell_type": "markdown",
      "source": [
        "#### Explain the problem's time and space complexity in your own words."
      ],
      "metadata": {
        "id": "EiMuNXYmgFnj"
      }
    },
    {
      "cell_type": "markdown",
      "source": [
        "In terms of time complexity:\n",
        "\n",
        "* The `np.arange` functions has a time complexity of `O(n)` as it creates an array from `0` to the maximum number in the list where `n` is the length of the range.\n",
        "\n",
        "* Now, `np.setdiff1` is more complex as it needs to sort the array and then retrieve the difference/missing numbers. This implies a `O(nlog(n))` complexity due to sorting. However, since both lists, the complete list `m` and the input list `n` need to be sorted, then the **overall time complexity** would be `O(mlog(m) + nlog(n))`\n",
        "\n",
        "In terms of space complexity:\n",
        "\n",
        "* Creating an array and converting the input list requires space proportional to the number of values in each, therefore, `O(m + n)` would be the appropriate **space complexity** as it considers storage needed to store data structures temporarily."
      ],
      "metadata": {
        "id": "NsgUGueWwGTZ"
      }
    },
    {
      "cell_type": "markdown",
      "source": [
        "#### Critique your partner's solution, including explanation, if there is anything that should be adjusted."
      ],
      "metadata": {
        "id": "umK24qOUgLW9"
      }
    },
    {
      "cell_type": "markdown",
      "source": [
        "There are couple suggestions I have based on everything learned in class:\n",
        "\n",
        "* Kamal's code and alternative solution heavily depends on Numpy. Salaar mentioned that for more complex or heavier problems we should look for other sources or packages that can effectively handle large quantities of data.\n",
        "\n",
        "* Following my first point, using `np.arange` to generate a complete range from 0 the maximum number in the list could be memory intensive if the maximum number is very large. This can be optimized by analizing the list more efficiently without generating a full range. This can also affect the space complexity negatively due memory consumption.\n",
        "\n",
        "* Another related suggestion is to find a way to optimize the algorithm by not having to sort the list every time we run the code. For instance, using data structures like `hash sets` to track numbers can potentially be a good option as if would find missing numbers without generating a full range.\n",
        "\n",
        "* Regarding Kamal's explanation and reasoning behing his code and logic, while his code is relatively straighforward, I'd suggest adding more comments to more, or even each, line of code. For someone new or unfamiliar to algorithms and/or numpy having few comments makes the code harder to understand. However, Kamal provided quite a comprehensive explanation to both his actual and alternative solution."
      ],
      "metadata": {
        "id": "IyfUqm6fz-pz"
      }
    },
    {
      "cell_type": "markdown",
      "source": [
        "### Part 3"
      ],
      "metadata": {
        "id": "kmDKDk8Vhd5Q"
      }
    },
    {
      "cell_type": "markdown",
      "source": [
        "##### Please write a 200 word reflection documenting your studying process from assignment 1, and your presentation and reviewing experience with your partner at the bottom of the Juypter Notebook under a new heading \"Reflection.\" Again, export this Notebook as pdf."
      ],
      "metadata": {
        "id": "UQ6Yb-aHlH2N"
      }
    },
    {
      "cell_type": "markdown",
      "source": [
        "#### Reflection"
      ],
      "metadata": {
        "id": "uSNImtRXvTwg"
      }
    },
    {
      "cell_type": "markdown",
      "source": [
        "My studying process in order to understand and complete assignment 1 was as follows. First, I had to re-watch some of the class recordings, review the lessons’ slides, and read more definitions and explanations on the web. Then I started writing some test code and the part where I spent most of my time was creating the `if` statements as I have never coded anything similar before. What also helped me was to search for additional help on `stackoverflow` and other forums. Then, I started testing my code with my own examples to verify whether it gave me the correct output. This took quite a few trials and errors but in the end I was able to effectively generate the correct output.\n",
        "\n",
        "My reviewing experience was not as time-consuming as my studying process for assignment 1 as I had already some idea of the topics and code Kamal, my partner, used. Still, I had to review some class content as well as get help from the web to further understand Numpy arrays and particularly the `setdiff1d` function which I had never seen before. Thanks to my partner’s great explanation I also learned more about arrays, and solidified my understanding of algorithms as well as time and space complexity.\n",
        "\n",
        "Overall it was a very enjoyable experience both completing my assignment and reviewing my partner’s solution.\n"
      ],
      "metadata": {
        "id": "auBWASHwhgdV"
      }
    },
    {
      "cell_type": "markdown",
      "source": [
        "End of asignment 2."
      ],
      "metadata": {
        "id": "CX9hPbpmhkfi"
      }
    }
  ]
}