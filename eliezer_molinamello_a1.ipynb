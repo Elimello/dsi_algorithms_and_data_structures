{
  "nbformat": 4,
  "nbformat_minor": 0,
  "metadata": {
    "colab": {
      "provenance": []
    },
    "kernelspec": {
      "name": "python3",
      "display_name": "Python 3"
    },
    "language_info": {
      "name": "python"
    }
  },
  "cells": [
    {
      "cell_type": "markdown",
      "source": [
        "## Assignment 1 - Eliezer Molina Mello"
      ],
      "metadata": {
        "id": "QfqMo5sLDdJr"
      }
    },
    {
      "cell_type": "markdown",
      "source": [
        "Hashed first name to determine which problem to work on."
      ],
      "metadata": {
        "id": "NEQbB6NyDdd8"
      }
    },
    {
      "cell_type": "code",
      "execution_count": 2,
      "metadata": {
        "id": "cIY3_ZVyDIYs"
      },
      "outputs": [],
      "source": [
        "import timeit\n",
        "import random\n",
        "from typing import List"
      ]
    },
    {
      "cell_type": "code",
      "source": [
        "(hash(\"Eliezer\")%3)+1"
      ],
      "metadata": {
        "colab": {
          "base_uri": "https://localhost:8080/"
        },
        "id": "i7L_m_jCDM0O",
        "outputId": "52c7717f-0dba-4305-b902-982696e46203"
      },
      "execution_count": null,
      "outputs": [
        {
          "output_type": "execute_result",
          "data": {
            "text/plain": [
              "2"
            ]
          },
          "metadata": {},
          "execution_count": 2
        }
      ]
    },
    {
      "cell_type": "markdown",
      "source": [
        "### Question Two: Path to Leaves\n",
        "\n",
        "Given the `root` of a binary tree, return all root to leaf paths in any order."
      ],
      "metadata": {
        "id": "C_WBKuMjGgLu"
      }
    },
    {
      "cell_type": "code",
      "source": [
        "# Starter code\n",
        "# Definition for a binary tree node.\n",
        "# class TreeNode(object):\n",
        "#     def __init__(self, val = 0, left = None, right = None):\n",
        "#         self.val = val\n",
        "#         self.left = left\n",
        "#         self.right = right\n",
        "# def bt_path(root: TreeNode) -> List[List[int]]:\n",
        "    # TODO"
      ],
      "metadata": {
        "id": "QNtSKv4b-tiB"
      },
      "execution_count": null,
      "outputs": []
    },
    {
      "cell_type": "markdown",
      "source": [
        "### Paraphrase the problem in your own words"
      ],
      "metadata": {
        "id": "9FgnglCZ-6pF"
      }
    },
    {
      "cell_type": "markdown",
      "source": [
        "The problem to solve is to write a piece of code that can give us the complete path (from root to leaves) of any binary tree. As asked during office hours, this algorithm needs to be able to return a path of a list that returns all paths in any order.\n",
        "\n",
        "This problem also involves analyzing the tree in such a way that every path is identified and recorded, regardless of the order in which these paths are listed. The objective is to ensure that for any given binary tree structure, we can display all the unique routes that link the tree's origin (root) to its terminal points (leaves)."
      ],
      "metadata": {
        "id": "olkgqtBN-8X7"
      }
    },
    {
      "cell_type": "markdown",
      "source": [
        "### In the .md file containing your problem, there are examples that illustrate how the code should work. Create 2 new examples that demonstrate you understand the problem."
      ],
      "metadata": {
        "id": "1wHmWdtzAqxh"
      }
    },
    {
      "cell_type": "code",
      "source": [
        "# Example 1:\n",
        "\n",
        "    # Input: root = [2, 5, 5, 6, 7, 7, 8]\n",
        "\n",
        "    # Output: [[2, 5, 6], [2, 5, 7], [2, 5, 7], [2, 5, 8]]"
      ],
      "metadata": {
        "id": "PbKGm6ApA1dc"
      },
      "execution_count": null,
      "outputs": []
    },
    {
      "cell_type": "code",
      "source": [
        "# Example 2:\n",
        "\n",
        "    # Input: root = [2, 3, 4, 6, 9]\n",
        "\n",
        "    # Output: [[2, 3, 6], [2, 3, 9], [2, 4]]"
      ],
      "metadata": {
        "id": "tNiu_W6hBuc3"
      },
      "execution_count": null,
      "outputs": []
    },
    {
      "cell_type": "markdown",
      "source": [
        "### Code the solution to your assigned problem in Python (code chunk). Try to find the best time and space complexity solution!"
      ],
      "metadata": {
        "id": "1X2_lM7ECKRb"
      }
    },
    {
      "cell_type": "code",
      "source": [
        "class TreeNode:\n",
        "    def __init__(self, val=0, left=None, right=None):\n",
        "        self.val = val\n",
        "        self.left = left\n",
        "        self.right = right\n",
        "\n",
        "# Create an extra function in order to distribute the root values\n",
        "def insertLevelOrder(arr, root, i, n):\n",
        "    # Base case for recursion\n",
        "    if i < n:\n",
        "        temp = TreeNode(arr[i])\n",
        "        root = temp\n",
        "\n",
        "        # insert left child\n",
        "        root.left = insertLevelOrder(arr, root.left, 2 * i + 1, n)\n",
        "\n",
        "        # insert right child\n",
        "        root.right = insertLevelOrder(arr, root.right, 2 * i + 2, n)\n",
        "    return root\n",
        "\n",
        "# Create the function use the started code provided as base\n",
        "def bt_path(root: TreeNode) -> List[List[int]]:\n",
        "    if not root:\n",
        "        return []\n",
        "\n",
        "    paths = []\n",
        "\n",
        "    def find_paths(node, current_path):\n",
        "        if node:\n",
        "            # Append the current node's value to the path\n",
        "            current_path.append(node.val)\n",
        "\n",
        "            # If it's a leaf node, add the path to the paths list\n",
        "            if not node.left and not node.right:\n",
        "                paths.append(list(current_path))\n",
        "            else:\n",
        "                find_paths(node.left, current_path)\n",
        "                find_paths(node.right, current_path)\n",
        "\n",
        "            # Backtrack to explore other paths\n",
        "            current_path.pop()\n",
        "\n",
        "    find_paths(root, [])\n",
        "    return paths\n",
        "\n",
        "# Insert the root provided in the q2.md file to confirm output\n",
        "arr = [1, 2, 2, 3, 5, 6, 7]\n",
        "n = len(arr)\n",
        "\n",
        "# Configure insertLevelOrder function\n",
        "root = None\n",
        "root = insertLevelOrder(arr, root, 0, n)\n",
        "\n",
        "# Call the bt_path function and print paths\n",
        "print(bt_path(root))"
      ],
      "metadata": {
        "id": "GYGE0C0FIdFg",
        "colab": {
          "base_uri": "https://localhost:8080/",
          "height": 0
        },
        "outputId": "8b1fe437-346e-4660-a5b2-b4f1bdc09b99"
      },
      "execution_count": 7,
      "outputs": [
        {
          "output_type": "stream",
          "name": "stdout",
          "text": [
            "[[1, 2, 3], [1, 2, 5], [1, 2, 6], [1, 2, 7]]\n"
          ]
        }
      ]
    },
    {
      "cell_type": "code",
      "source": [
        "# Check to see if code runs successfully\n",
        "\n",
        "# Given another root, which is my own example provided above\n",
        "arr = [2, 3, 4, 6, 9]\n",
        "n = len(arr)\n",
        "root = None\n",
        "root = insertLevelOrder(arr, root, 0, n)\n",
        "\n",
        "# Call the bt_path function and print paths\n",
        "print(bt_path(root))"
      ],
      "metadata": {
        "colab": {
          "base_uri": "https://localhost:8080/",
          "height": 0
        },
        "id": "F7hVqVlTyPtq",
        "outputId": "27731563-d800-4ceb-cc21-e531a2da6fa5"
      },
      "execution_count": 6,
      "outputs": [
        {
          "output_type": "stream",
          "name": "stdout",
          "text": [
            "[[2, 3, 6], [2, 3, 9], [2, 4]]\n"
          ]
        }
      ]
    },
    {
      "cell_type": "markdown",
      "source": [
        "### Explain why your solution works"
      ],
      "metadata": {
        "id": "Is9NIUAiFVwN"
      }
    },
    {
      "cell_type": "markdown",
      "source": [
        "My solution works because, after analyzing the sample root and output (Example 1 in q2.md), I understood that it represents a level order traversal of a binary tree, so I can construct the tree accordingly and then implement a function to find all root-to-leaf paths. To build the tree from its level order traversal, I iteratively inserted nodes into the tree following the order of the list. My solution ensures that every possible path from the root to the leaves is considered.\n",
        "\n",
        "For added context, my solution starts at the root and ensures that both left and right branches are explored if they exist, covering all possible paths in the binary tree without leaving a single unvisited path. Then, my solution appends every single path found."
      ],
      "metadata": {
        "id": "M4ZZDyveFL5l"
      }
    },
    {
      "cell_type": "markdown",
      "source": [
        "### Explain the problem’s and time complexity and space complexity"
      ],
      "metadata": {
        "id": "f5hOZRZUFZLa"
      }
    },
    {
      "cell_type": "markdown",
      "source": [
        "Analyzing the problem's complexity:\n",
        "\n",
        "In terms of time complexity:\n",
        "\n",
        "* Constructing the tree from a level order traversal has a time complexity of `O(n)`, where `n` is the number of nodes in the tree. This is because we iterate through the list once to create all nodes and set their left and right children.\n",
        "\n",
        "* Finding all root-to-leaf paths involves a Depth-First Search (DFS) traversal of the tree, as discussed in class. In the worst case, we visit each node exactly once, which also gives us a time complexity of `O(n)` for this part of the task.\n",
        "\n",
        "* Therefore, I believe the overall time complexity of the solution is `O(n)` + `O(n)` = `O(n)`\n",
        "\n",
        "\n",
        "In terms of space complexity:\n",
        "\n",
        "* The space complexity for constructing the tree is `O(n)` for storing the tree itself.\n",
        "\n",
        "* For finding all paths, the maximum amount of space is used by the call stack during the recursive DFS, which in the worst case (such as a skewed tree) can be `O(n)`.\n",
        "\n",
        "* Therefore, the overall space complexity of the solution is `O(n)` for the tree construction and `O(n)` for the DFS traversal and path storage, making it `O(n)`.\n",
        "\n",
        "In summary, based on my understanding of the problems complexity and the topics learned I can say that both time and space complexity is `O(n)`, where `n` is the number of nodes in the tree."
      ],
      "metadata": {
        "id": "TZJKAf6yMakR"
      }
    },
    {
      "cell_type": "markdown",
      "source": [
        "### Explain the thinking to an alternative solution (no coding required, but a classmate reading this should be able to code it up based off your text)"
      ],
      "metadata": {
        "id": "A2P2LyXUFcBo"
      }
    },
    {
      "cell_type": "markdown",
      "source": [
        "I believe that regarding an alternative solution to find all `root to leaf` paths in a binary tree, using sorting algorithms like insertion sort or merge sort isn't applicable, these were discussed in class. Also, these sorting algorithms are designed to organize a linear sequence of elements into a specified order and don't deal with tree structures or pathfinding within trees.\n",
        "\n",
        "However, an alternative approach to explore would be the Breadth-First Search (BFS) method. Instead of exploring a particular branch, BFS explores the tree level by level. This method involves keeping track of paths in a sequence, where each entry in the sequence represents a path from the root to the current node. For each node visited, you would add two new paths to the queue (if the node has branches): one path including the left branch and another including the right branch. Finally, when a leaf node is reached, the path leading to it is a complete `root to leaf` path and can be apppended to the path list."
      ],
      "metadata": {
        "id": "GLtPcPmplXlb"
      }
    },
    {
      "cell_type": "markdown",
      "source": [
        "\n",
        "\n",
        "End of assignment 1."
      ],
      "metadata": {
        "id": "eDdasxneTC9E"
      }
    }
  ]
}